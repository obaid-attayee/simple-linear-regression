{
 "cells": [
  {
   "cell_type": "markdown",
   "id": "f75c852a",
   "metadata": {},
   "source": [
    "# Importing Libraries"
   ]
  },
  {
   "cell_type": "code",
   "execution_count": 1,
   "id": "a0c74756",
   "metadata": {},
   "outputs": [],
   "source": [
    "import pandas as pd\n",
    "import numpy as np\n",
    "import seaborn as sns\n",
    "import matplotlib.pyplot as plt\n",
    "%matplotlib inline"
   ]
  },
  {
   "cell_type": "markdown",
   "id": "20a2d301",
   "metadata": {},
   "source": [
    "# Loading Dataset"
   ]
  },
  {
   "cell_type": "code",
   "execution_count": 2,
   "id": "477ae8cf",
   "metadata": {},
   "outputs": [
    {
     "data": {
      "text/html": [
       "<div>\n",
       "<style scoped>\n",
       "    .dataframe tbody tr th:only-of-type {\n",
       "        vertical-align: middle;\n",
       "    }\n",
       "\n",
       "    .dataframe tbody tr th {\n",
       "        vertical-align: top;\n",
       "    }\n",
       "\n",
       "    .dataframe thead th {\n",
       "        text-align: right;\n",
       "    }\n",
       "</style>\n",
       "<table border=\"1\" class=\"dataframe\">\n",
       "  <thead>\n",
       "    <tr style=\"text-align: right;\">\n",
       "      <th></th>\n",
       "      <th>x</th>\n",
       "      <th>y</th>\n",
       "    </tr>\n",
       "  </thead>\n",
       "  <tbody>\n",
       "    <tr>\n",
       "      <th>0</th>\n",
       "      <td>24.0</td>\n",
       "      <td>21.549452</td>\n",
       "    </tr>\n",
       "    <tr>\n",
       "      <th>1</th>\n",
       "      <td>50.0</td>\n",
       "      <td>47.464463</td>\n",
       "    </tr>\n",
       "    <tr>\n",
       "      <th>2</th>\n",
       "      <td>15.0</td>\n",
       "      <td>17.218656</td>\n",
       "    </tr>\n",
       "    <tr>\n",
       "      <th>3</th>\n",
       "      <td>38.0</td>\n",
       "      <td>36.586398</td>\n",
       "    </tr>\n",
       "    <tr>\n",
       "      <th>4</th>\n",
       "      <td>87.0</td>\n",
       "      <td>87.288984</td>\n",
       "    </tr>\n",
       "    <tr>\n",
       "      <th>5</th>\n",
       "      <td>36.0</td>\n",
       "      <td>32.463875</td>\n",
       "    </tr>\n",
       "    <tr>\n",
       "      <th>6</th>\n",
       "      <td>12.0</td>\n",
       "      <td>10.780897</td>\n",
       "    </tr>\n",
       "    <tr>\n",
       "      <th>7</th>\n",
       "      <td>81.0</td>\n",
       "      <td>80.763399</td>\n",
       "    </tr>\n",
       "    <tr>\n",
       "      <th>8</th>\n",
       "      <td>25.0</td>\n",
       "      <td>24.612151</td>\n",
       "    </tr>\n",
       "    <tr>\n",
       "      <th>9</th>\n",
       "      <td>5.0</td>\n",
       "      <td>6.963319</td>\n",
       "    </tr>\n",
       "  </tbody>\n",
       "</table>\n",
       "</div>"
      ],
      "text/plain": [
       "      x          y\n",
       "0  24.0  21.549452\n",
       "1  50.0  47.464463\n",
       "2  15.0  17.218656\n",
       "3  38.0  36.586398\n",
       "4  87.0  87.288984\n",
       "5  36.0  32.463875\n",
       "6  12.0  10.780897\n",
       "7  81.0  80.763399\n",
       "8  25.0  24.612151\n",
       "9   5.0   6.963319"
      ]
     },
     "execution_count": 2,
     "metadata": {},
     "output_type": "execute_result"
    }
   ],
   "source": [
    "df = pd.read_csv('train.csv')\n",
    "df.head(10)"
   ]
  },
  {
   "cell_type": "markdown",
   "id": "4fb496c0",
   "metadata": {},
   "source": [
    "# Exploratory Data Analysis"
   ]
  },
  {
   "cell_type": "code",
   "execution_count": 3,
   "id": "89d7f717",
   "metadata": {},
   "outputs": [
    {
     "data": {
      "text/plain": [
       "(700, 2)"
      ]
     },
     "execution_count": 3,
     "metadata": {},
     "output_type": "execute_result"
    }
   ],
   "source": [
    "df.shape"
   ]
  },
  {
   "cell_type": "markdown",
   "id": "b1b6d4f2",
   "metadata": {},
   "source": [
    "- Dataset consists of 700 observations and 2 characteristics.\n",
    "- Out of the 2 characteristics, one - 'x' - is the independent variable and the other - 'y' - is the dependent variable."
   ]
  },
  {
   "cell_type": "code",
   "execution_count": 4,
   "id": "d32f64c9",
   "metadata": {},
   "outputs": [
    {
     "name": "stdout",
     "output_type": "stream",
     "text": [
      "<class 'pandas.core.frame.DataFrame'>\n",
      "RangeIndex: 700 entries, 0 to 699\n",
      "Data columns (total 2 columns):\n",
      " #   Column  Non-Null Count  Dtype  \n",
      "---  ------  --------------  -----  \n",
      " 0   x       700 non-null    float64\n",
      " 1   y       699 non-null    float64\n",
      "dtypes: float64(2)\n",
      "memory usage: 11.1 KB\n"
     ]
    }
   ],
   "source": [
    "df.info()"
   ]
  },
  {
   "cell_type": "markdown",
   "id": "a60d3460",
   "metadata": {},
   "source": [
    "- Data only has float values.\n",
    "- The 'y' column has 1 null/missing a value."
   ]
  },
  {
   "cell_type": "markdown",
   "id": "622409ec",
   "metadata": {},
   "source": [
    "# Summary Statistics"
   ]
  },
  {
   "cell_type": "code",
   "execution_count": 5,
   "id": "31d5cb2f",
   "metadata": {},
   "outputs": [
    {
     "data": {
      "text/html": [
       "<div>\n",
       "<style scoped>\n",
       "    .dataframe tbody tr th:only-of-type {\n",
       "        vertical-align: middle;\n",
       "    }\n",
       "\n",
       "    .dataframe tbody tr th {\n",
       "        vertical-align: top;\n",
       "    }\n",
       "\n",
       "    .dataframe thead th {\n",
       "        text-align: right;\n",
       "    }\n",
       "</style>\n",
       "<table border=\"1\" class=\"dataframe\">\n",
       "  <thead>\n",
       "    <tr style=\"text-align: right;\">\n",
       "      <th></th>\n",
       "      <th>count</th>\n",
       "      <th>mean</th>\n",
       "      <th>std</th>\n",
       "      <th>min</th>\n",
       "      <th>25%</th>\n",
       "      <th>50%</th>\n",
       "      <th>75%</th>\n",
       "      <th>max</th>\n",
       "    </tr>\n",
       "  </thead>\n",
       "  <tbody>\n",
       "    <tr>\n",
       "      <th>x</th>\n",
       "      <td>700.0</td>\n",
       "      <td>54.985939</td>\n",
       "      <td>134.681703</td>\n",
       "      <td>0.000000</td>\n",
       "      <td>25.000000</td>\n",
       "      <td>49.00000</td>\n",
       "      <td>75.000000</td>\n",
       "      <td>3530.157369</td>\n",
       "    </tr>\n",
       "    <tr>\n",
       "      <th>y</th>\n",
       "      <td>699.0</td>\n",
       "      <td>49.939869</td>\n",
       "      <td>29.109217</td>\n",
       "      <td>-3.839981</td>\n",
       "      <td>24.929968</td>\n",
       "      <td>48.97302</td>\n",
       "      <td>74.929911</td>\n",
       "      <td>108.871618</td>\n",
       "    </tr>\n",
       "  </tbody>\n",
       "</table>\n",
       "</div>"
      ],
      "text/plain": [
       "   count       mean         std       min        25%       50%        75%  \\\n",
       "x  700.0  54.985939  134.681703  0.000000  25.000000  49.00000  75.000000   \n",
       "y  699.0  49.939869   29.109217 -3.839981  24.929968  48.97302  74.929911   \n",
       "\n",
       "           max  \n",
       "x  3530.157369  \n",
       "y   108.871618  "
      ]
     },
     "execution_count": 5,
     "metadata": {},
     "output_type": "execute_result"
    }
   ],
   "source": [
    "df.describe().transpose()"
   ]
  },
  {
   "cell_type": "markdown",
   "id": "eef70aed",
   "metadata": {},
   "source": [
    "- Mean and median values for both characteristics are relatively close.\n",
    "- Notably large difference in 75th %tile and max value of 'x' column."
   ]
  },
  {
   "cell_type": "markdown",
   "id": "1fdfd714",
   "metadata": {},
   "source": [
    "# Data Visualization"
   ]
  },
  {
   "cell_type": "markdown",
   "id": "d67ec05a",
   "metadata": {},
   "source": [
    "# Visualizing Missing Values"
   ]
  },
  {
   "cell_type": "code",
   "execution_count": 6,
   "id": "e56816a8",
   "metadata": {},
   "outputs": [
    {
     "data": {
      "text/plain": [
       "<AxesSubplot:>"
      ]
     },
     "execution_count": 6,
     "metadata": {},
     "output_type": "execute_result"
    },
    {
     "data": {
      "image/png": "[encoded data removed]",
      "text/plain": [
       "<Figure size 864x720 with 1 Axes>"
      ]
     },
     "metadata": {
      "needs_background": "light"
     },
     "output_type": "display_data"
    }
   ],
   "source": [
    "plt.figure(figsize=(12,10))\n",
    "sns.heatmap(df.isnull(),cbar=False,cmap ='viridis')"
   ]
  },
  {
   "cell_type": "markdown",
   "id": "9977d3df",
   "metadata": {},
   "source": [
    "- The different color shade on the purple background represents the missing value in the 'y' column."
   ]
  },
  {
   "cell_type": "markdown",
   "id": "77bf2e7c",
   "metadata": {},
   "source": [
    "# Visualizing Correlation"
   ]
  },
  {
   "cell_type": "code",
   "execution_count": 7,
   "id": "52ad97a3",
   "metadata": {},
   "outputs": [
    {
     "data": {
      "text/plain": [
       "<AxesSubplot:>"
      ]
     },
     "execution_count": 7,
     "metadata": {},
     "output_type": "execute_result"
    },
    {
     "data": {
      "image/png": "[encoded data removed]",
      "text/plain": [
       "<Figure size 432x288 with 2 Axes>"
      ]
     },
     "metadata": {
      "needs_background": "light"
     },
     "output_type": "display_data"
    }
   ],
   "source": [
    "plt.figure(figsize=(6,4))\n",
    "sns.heatmap(df.corr(),cmap='Blues',annot=False) "
   ]
  },
  {
   "cell_type": "markdown",
   "id": "b7542f08",
   "metadata": {},
   "source": [
    "- This is not a great dataset for visualizing correlation because the variables are highly correlated and there is only 2 variables.\n",
    "- The dark shade represents perfect correlation because any variable is perfectly correlated with itself.\n",
    "- The ligher shade represents a correlation of approximately 0.996."
   ]
  },
  {
   "cell_type": "markdown",
   "id": "9b3a753f",
   "metadata": {},
   "source": [
    "# Visualizing Data Trend"
   ]
  },
  {
   "cell_type": "code",
   "execution_count": 8,
   "id": "be97715c",
   "metadata": {},
   "outputs": [
    {
     "data": {
      "text/plain": [
       "<AxesSubplot:xlabel='x', ylabel='y'>"
      ]
     },
     "execution_count": 8,
     "metadata": {},
     "output_type": "execute_result"
    },
    {
     "data": {
      "image/png": "[encoded data removed]",
      "text/plain": [
       "<Figure size 432x288 with 1 Axes>"
      ]
     },
     "metadata": {
      "needs_background": "light"
     },
     "output_type": "display_data"
    }
   ],
   "source": [
    "sns.scatterplot(x='x',y='y',data=df)"
   ]
  },
  {
   "cell_type": "markdown",
   "id": "b190a046",
   "metadata": {},
   "source": [
    "- The dataset follows a linear trend hence linear regression is appropriate for the dataset.\n",
    "- There isn't any value in the set that might be an outlier."
   ]
  },
  {
   "cell_type": "markdown",
   "id": "1f53ac2c",
   "metadata": {},
   "source": [
    "# Dealing with null/missing values"
   ]
  },
  {
   "cell_type": "code",
   "execution_count": 9,
   "id": "bbf3c4fb",
   "metadata": {},
   "outputs": [
    {
     "data": {
      "text/plain": [
       "x    0\n",
       "y    1\n",
       "dtype: int64"
      ]
     },
     "execution_count": 9,
     "metadata": {},
     "output_type": "execute_result"
    }
   ],
   "source": [
    "df.isnull().sum()"
   ]
  },
  {
   "cell_type": "markdown",
   "id": "fba1c575",
   "metadata": {},
   "source": [
    "- Since there is only 1 row that is missing a value and the set consists of 700 observations, it wouldn't alter the model too much if the row is dropped "
   ]
  },
  {
   "cell_type": "code",
   "execution_count": 10,
   "id": "a7cac137",
   "metadata": {},
   "outputs": [
    {
     "data": {
      "text/plain": [
       "x    0\n",
       "y    0\n",
       "dtype: int64"
      ]
     },
     "execution_count": 10,
     "metadata": {},
     "output_type": "execute_result"
    }
   ],
   "source": [
    "df = df.dropna()\n",
    "df.isnull().sum()"
   ]
  },
  {
   "cell_type": "code",
   "execution_count": 11,
   "id": "ccce5892",
   "metadata": {},
   "outputs": [
    {
     "data": {
      "text/plain": [
       "(699, 2)"
      ]
     },
     "execution_count": 11,
     "metadata": {},
     "output_type": "execute_result"
    }
   ],
   "source": [
    "df.shape"
   ]
  },
  {
   "cell_type": "markdown",
   "id": "779a5624",
   "metadata": {},
   "source": [
    "- The dataset now consists of 699 observations, 2 characteristics, and no missing values."
   ]
  },
  {
   "cell_type": "markdown",
   "id": "e701040e",
   "metadata": {},
   "source": [
    "# Building a Linear Regression Model"
   ]
  },
  {
   "cell_type": "markdown",
   "id": "f9b79517",
   "metadata": {},
   "source": [
    "<strong>Note:</strong> I will build the model in 2 separate parts - 1) I will do all the calculations on a step-by-step basis to come up with the linear regression model manually; 2) In the second part, I will use the scikit-learn library to build a linear regression model."
   ]
  },
  {
   "cell_type": "markdown",
   "id": "40f6570d",
   "metadata": {},
   "source": [
    "# Part 1: Building the Model Manually"
   ]
  },
  {
   "cell_type": "code",
   "execution_count": 12,
   "id": "6c8d0e51",
   "metadata": {},
   "outputs": [],
   "source": [
    "from sklearn.model_selection import train_test_split"
   ]
  },
  {
   "cell_type": "code",
   "execution_count": 13,
   "id": "7f50502b",
   "metadata": {},
   "outputs": [],
   "source": [
    "train, test = train_test_split(df, test_size=0.3)"
   ]
  },
  {
   "cell_type": "markdown",
   "id": "7b968b15",
   "metadata": {},
   "source": [
    "- I have split the dataset into 2 dataframes.\n",
    "- The train dataframe will be used to build a model whereas the test dataset will be used to test the accuracy of the model."
   ]
  },
  {
   "attachments": {
    "image-2.png": {
     "image/png": "[encoded data removed]"
    }
   },
   "cell_type": "markdown",
   "id": "03a9f62d",
   "metadata": {},
   "source": [
    "<strong>Simple linear regression model equation</strong>\n",
    "![image-2.png](attachment:image-2.png)"
   ]
  },
  {
   "attachments": {
    "image.png": {
     "image/png": "[encoded data removed]"
    }
   },
   "cell_type": "markdown",
   "id": "a0277f23",
   "metadata": {},
   "source": [
    "<strong>Furthermore, the equation to calculate the coefficient and intercept is:</strong>\n",
    "![image.png](attachment:image.png)"
   ]
  },
  {
   "cell_type": "markdown",
   "id": "64204e53",
   "metadata": {},
   "source": [
    "- (xi - x̄) refers to subtracting the mean of x from each value of x, likewise (yi - ȳ) refers to subtracting the mean of y from each individual value of y.\n",
    "- Σ(xi - x̄)(yi - ȳ) refers to multiplying the results of (xi - x̄) and (yi - ȳ) and then summing it up.\n",
    "- Then, we take the results of Σ(xi - x̄)(yi - ȳ) and divide by (xi - x̄)^2."
   ]
  },
  {
   "cell_type": "code",
   "execution_count": 14,
   "id": "adeb332a",
   "metadata": {},
   "outputs": [],
   "source": [
    "x_mean = train['x'].mean()\n",
    "y_mean = train['y'].mean()"
   ]
  },
  {
   "cell_type": "markdown",
   "id": "525d8c01",
   "metadata": {},
   "source": [
    "- x_mean and y_mean is a variable that stores the mean of each column."
   ]
  },
  {
   "cell_type": "code",
   "execution_count": 15,
   "id": "ba954619",
   "metadata": {},
   "outputs": [
    {
     "data": {
      "text/plain": [
       "50.67893660531697"
      ]
     },
     "execution_count": 15,
     "metadata": {},
     "output_type": "execute_result"
    }
   ],
   "source": [
    "x_mean"
   ]
  },
  {
   "cell_type": "code",
   "execution_count": 16,
   "id": "84001a4f",
   "metadata": {},
   "outputs": [
    {
     "data": {
      "text/plain": [
       "50.61555373364213"
      ]
     },
     "execution_count": 16,
     "metadata": {},
     "output_type": "execute_result"
    }
   ],
   "source": [
    "y_mean"
   ]
  },
  {
   "cell_type": "code",
   "execution_count": 17,
   "id": "3b971a98",
   "metadata": {},
   "outputs": [
    {
     "name": "stderr",
     "output_type": "stream",
     "text": [
      "<ipython-input-17-254b3dbb43e4>:1: SettingWithCopyWarning: \n",
      "A value is trying to be set on a copy of a slice from a DataFrame.\n",
      "Try using .loc[row_indexer,col_indexer] = value instead\n",
      "\n",
      "See the caveats in the documentation: https://pandas.pydata.org/pandas-docs/stable/user_guide/indexing.html#returning-a-view-versus-a-copy\n",
      "  train['x_deviation'] = train['x'].apply(lambda x: x - x_mean)\n",
      "<ipython-input-17-254b3dbb43e4>:2: SettingWithCopyWarning: \n",
      "A value is trying to be set on a copy of a slice from a DataFrame.\n",
      "Try using .loc[row_indexer,col_indexer] = value instead\n",
      "\n",
      "See the caveats in the documentation: https://pandas.pydata.org/pandas-docs/stable/user_guide/indexing.html#returning-a-view-versus-a-copy\n",
      "  train['y_deviation'] = train['y'].apply(lambda x: x - y_mean)\n"
     ]
    },
    {
     "data": {
      "text/html": [
       "<div>\n",
       "<style scoped>\n",
       "    .dataframe tbody tr th:only-of-type {\n",
       "        vertical-align: middle;\n",
       "    }\n",
       "\n",
       "    .dataframe tbody tr th {\n",
       "        vertical-align: top;\n",
       "    }\n",
       "\n",
       "    .dataframe thead th {\n",
       "        text-align: right;\n",
       "    }\n",
       "</style>\n",
       "<table border=\"1\" class=\"dataframe\">\n",
       "  <thead>\n",
       "    <tr style=\"text-align: right;\">\n",
       "      <th></th>\n",
       "      <th>x</th>\n",
       "      <th>y</th>\n",
       "      <th>x_deviation</th>\n",
       "      <th>y_deviation</th>\n",
       "    </tr>\n",
       "  </thead>\n",
       "  <tbody>\n",
       "    <tr>\n",
       "      <th>3</th>\n",
       "      <td>38.0</td>\n",
       "      <td>36.586398</td>\n",
       "      <td>-12.678937</td>\n",
       "      <td>-14.029156</td>\n",
       "    </tr>\n",
       "    <tr>\n",
       "      <th>253</th>\n",
       "      <td>11.0</td>\n",
       "      <td>9.199955</td>\n",
       "      <td>-39.678937</td>\n",
       "      <td>-41.415599</td>\n",
       "    </tr>\n",
       "    <tr>\n",
       "      <th>265</th>\n",
       "      <td>51.0</td>\n",
       "      <td>48.380884</td>\n",
       "      <td>0.321063</td>\n",
       "      <td>-2.234670</td>\n",
       "    </tr>\n",
       "    <tr>\n",
       "      <th>275</th>\n",
       "      <td>81.0</td>\n",
       "      <td>81.289607</td>\n",
       "      <td>30.321063</td>\n",
       "      <td>30.674054</td>\n",
       "    </tr>\n",
       "    <tr>\n",
       "      <th>476</th>\n",
       "      <td>49.0</td>\n",
       "      <td>48.433079</td>\n",
       "      <td>-1.678937</td>\n",
       "      <td>-2.182475</td>\n",
       "    </tr>\n",
       "    <tr>\n",
       "      <th>236</th>\n",
       "      <td>83.0</td>\n",
       "      <td>87.220597</td>\n",
       "      <td>32.321063</td>\n",
       "      <td>36.605043</td>\n",
       "    </tr>\n",
       "    <tr>\n",
       "      <th>681</th>\n",
       "      <td>52.0</td>\n",
       "      <td>52.733898</td>\n",
       "      <td>1.321063</td>\n",
       "      <td>2.118344</td>\n",
       "    </tr>\n",
       "    <tr>\n",
       "      <th>9</th>\n",
       "      <td>5.0</td>\n",
       "      <td>6.963319</td>\n",
       "      <td>-45.678937</td>\n",
       "      <td>-43.652235</td>\n",
       "    </tr>\n",
       "    <tr>\n",
       "      <th>512</th>\n",
       "      <td>16.0</td>\n",
       "      <td>15.561355</td>\n",
       "      <td>-34.678937</td>\n",
       "      <td>-35.054199</td>\n",
       "    </tr>\n",
       "    <tr>\n",
       "      <th>218</th>\n",
       "      <td>84.0</td>\n",
       "      <td>83.128617</td>\n",
       "      <td>33.321063</td>\n",
       "      <td>32.513063</td>\n",
       "    </tr>\n",
       "  </tbody>\n",
       "</table>\n",
       "</div>"
      ],
      "text/plain": [
       "        x          y  x_deviation  y_deviation\n",
       "3    38.0  36.586398   -12.678937   -14.029156\n",
       "253  11.0   9.199955   -39.678937   -41.415599\n",
       "265  51.0  48.380884     0.321063    -2.234670\n",
       "275  81.0  81.289607    30.321063    30.674054\n",
       "476  49.0  48.433079    -1.678937    -2.182475\n",
       "236  83.0  87.220597    32.321063    36.605043\n",
       "681  52.0  52.733898     1.321063     2.118344\n",
       "9     5.0   6.963319   -45.678937   -43.652235\n",
       "512  16.0  15.561355   -34.678937   -35.054199\n",
       "218  84.0  83.128617    33.321063    32.513063"
      ]
     },
     "execution_count": 17,
     "metadata": {},
     "output_type": "execute_result"
    }
   ],
   "source": [
    "train['x_deviation'] = train['x'].apply(lambda x: x - x_mean)\n",
    "train['y_deviation'] = train['y'].apply(lambda x: x - y_mean)\n",
    "train.head(10)"
   ]
  },
  {
   "cell_type": "markdown",
   "id": "d7d961e7",
   "metadata": {},
   "source": [
    "- The x_deviation column subtracts the mean of x from the x value of that row; the y_deviation column does the samething for the y variable.\n",
    "- The new columns tells us how much each x and y obsevation deviates from its mean.\n",
    "- Positive numbers represents being above the mean and negative numbers represents being below the mean."
   ]
  },
  {
   "cell_type": "code",
   "execution_count": 18,
   "id": "40fe7206",
   "metadata": {},
   "outputs": [
    {
     "name": "stderr",
     "output_type": "stream",
     "text": [
      "<ipython-input-18-459ec5281203>:1: SettingWithCopyWarning: \n",
      "A value is trying to be set on a copy of a slice from a DataFrame.\n",
      "Try using .loc[row_indexer,col_indexer] = value instead\n",
      "\n",
      "See the caveats in the documentation: https://pandas.pydata.org/pandas-docs/stable/user_guide/indexing.html#returning-a-view-versus-a-copy\n",
      "  train['x_deviation * y_deviation'] = train['x_deviation'] * train['y_deviation']\n"
     ]
    },
    {
     "data": {
      "text/html": [
       "<div>\n",
       "<style scoped>\n",
       "    .dataframe tbody tr th:only-of-type {\n",
       "        vertical-align: middle;\n",
       "    }\n",
       "\n",
       "    .dataframe tbody tr th {\n",
       "        vertical-align: top;\n",
       "    }\n",
       "\n",
       "    .dataframe thead th {\n",
       "        text-align: right;\n",
       "    }\n",
       "</style>\n",
       "<table border=\"1\" class=\"dataframe\">\n",
       "  <thead>\n",
       "    <tr style=\"text-align: right;\">\n",
       "      <th></th>\n",
       "      <th>x</th>\n",
       "      <th>y</th>\n",
       "      <th>x_deviation</th>\n",
       "      <th>y_deviation</th>\n",
       "      <th>x_deviation * y_deviation</th>\n",
       "    </tr>\n",
       "  </thead>\n",
       "  <tbody>\n",
       "    <tr>\n",
       "      <th>3</th>\n",
       "      <td>38.0</td>\n",
       "      <td>36.586398</td>\n",
       "      <td>-12.678937</td>\n",
       "      <td>-14.029156</td>\n",
       "      <td>177.874776</td>\n",
       "    </tr>\n",
       "    <tr>\n",
       "      <th>253</th>\n",
       "      <td>11.0</td>\n",
       "      <td>9.199955</td>\n",
       "      <td>-39.678937</td>\n",
       "      <td>-41.415599</td>\n",
       "      <td>1643.326928</td>\n",
       "    </tr>\n",
       "    <tr>\n",
       "      <th>265</th>\n",
       "      <td>51.0</td>\n",
       "      <td>48.380884</td>\n",
       "      <td>0.321063</td>\n",
       "      <td>-2.234670</td>\n",
       "      <td>-0.717471</td>\n",
       "    </tr>\n",
       "    <tr>\n",
       "      <th>275</th>\n",
       "      <td>81.0</td>\n",
       "      <td>81.289607</td>\n",
       "      <td>30.321063</td>\n",
       "      <td>30.674054</td>\n",
       "      <td>930.069928</td>\n",
       "    </tr>\n",
       "    <tr>\n",
       "      <th>476</th>\n",
       "      <td>49.0</td>\n",
       "      <td>48.433079</td>\n",
       "      <td>-1.678937</td>\n",
       "      <td>-2.182475</td>\n",
       "      <td>3.664237</td>\n",
       "    </tr>\n",
       "    <tr>\n",
       "      <th>236</th>\n",
       "      <td>83.0</td>\n",
       "      <td>87.220597</td>\n",
       "      <td>32.321063</td>\n",
       "      <td>36.605043</td>\n",
       "      <td>1183.113917</td>\n",
       "    </tr>\n",
       "    <tr>\n",
       "      <th>681</th>\n",
       "      <td>52.0</td>\n",
       "      <td>52.733898</td>\n",
       "      <td>1.321063</td>\n",
       "      <td>2.118344</td>\n",
       "      <td>2.798467</td>\n",
       "    </tr>\n",
       "    <tr>\n",
       "      <th>9</th>\n",
       "      <td>5.0</td>\n",
       "      <td>6.963319</td>\n",
       "      <td>-45.678937</td>\n",
       "      <td>-43.652235</td>\n",
       "      <td>1993.987660</td>\n",
       "    </tr>\n",
       "    <tr>\n",
       "      <th>512</th>\n",
       "      <td>16.0</td>\n",
       "      <td>15.561355</td>\n",
       "      <td>-34.678937</td>\n",
       "      <td>-35.054199</td>\n",
       "      <td>1215.642331</td>\n",
       "    </tr>\n",
       "    <tr>\n",
       "      <th>218</th>\n",
       "      <td>84.0</td>\n",
       "      <td>83.128617</td>\n",
       "      <td>33.321063</td>\n",
       "      <td>32.513063</td>\n",
       "      <td>1083.369829</td>\n",
       "    </tr>\n",
       "  </tbody>\n",
       "</table>\n",
       "</div>"
      ],
      "text/plain": [
       "        x          y  x_deviation  y_deviation  x_deviation * y_deviation\n",
       "3    38.0  36.586398   -12.678937   -14.029156                 177.874776\n",
       "253  11.0   9.199955   -39.678937   -41.415599                1643.326928\n",
       "265  51.0  48.380884     0.321063    -2.234670                  -0.717471\n",
       "275  81.0  81.289607    30.321063    30.674054                 930.069928\n",
       "476  49.0  48.433079    -1.678937    -2.182475                   3.664237\n",
       "236  83.0  87.220597    32.321063    36.605043                1183.113917\n",
       "681  52.0  52.733898     1.321063     2.118344                   2.798467\n",
       "9     5.0   6.963319   -45.678937   -43.652235                1993.987660\n",
       "512  16.0  15.561355   -34.678937   -35.054199                1215.642331\n",
       "218  84.0  83.128617    33.321063    32.513063                1083.369829"
      ]
     },
     "execution_count": 18,
     "metadata": {},
     "output_type": "execute_result"
    }
   ],
   "source": [
    "train['x_deviation * y_deviation'] = train['x_deviation'] * train['y_deviation']\n",
    "train.head(10)"
   ]
  },
  {
   "cell_type": "markdown",
   "id": "de7688d7",
   "metadata": {},
   "source": [
    "- The new column, 'x_deviation * y_deviation', is simply the product of two previous columns.\n",
    "- By having this column, it makes it easier to calculate Σ(xi - x̄)(yi - ȳ)."
   ]
  },
  {
   "cell_type": "code",
   "execution_count": 19,
   "id": "bf4732c5",
   "metadata": {},
   "outputs": [
    {
     "name": "stderr",
     "output_type": "stream",
     "text": [
      "<ipython-input-19-190c76c1d4c8>:1: SettingWithCopyWarning: \n",
      "A value is trying to be set on a copy of a slice from a DataFrame.\n",
      "Try using .loc[row_indexer,col_indexer] = value instead\n",
      "\n",
      "See the caveats in the documentation: https://pandas.pydata.org/pandas-docs/stable/user_guide/indexing.html#returning-a-view-versus-a-copy\n",
      "  train['x_deviation-squared'] = train['x_deviation'].apply(lambda x: x**2)\n"
     ]
    },
    {
     "data": {
      "text/html": [
       "<div>\n",
       "<style scoped>\n",
       "    .dataframe tbody tr th:only-of-type {\n",
       "        vertical-align: middle;\n",
       "    }\n",
       "\n",
       "    .dataframe tbody tr th {\n",
       "        vertical-align: top;\n",
       "    }\n",
       "\n",
       "    .dataframe thead th {\n",
       "        text-align: right;\n",
       "    }\n",
       "</style>\n",
       "<table border=\"1\" class=\"dataframe\">\n",
       "  <thead>\n",
       "    <tr style=\"text-align: right;\">\n",
       "      <th></th>\n",
       "      <th>x</th>\n",
       "      <th>y</th>\n",
       "      <th>x_deviation</th>\n",
       "      <th>y_deviation</th>\n",
       "      <th>x_deviation * y_deviation</th>\n",
       "      <th>x_deviation-squared</th>\n",
       "    </tr>\n",
       "  </thead>\n",
       "  <tbody>\n",
       "    <tr>\n",
       "      <th>3</th>\n",
       "      <td>38.0</td>\n",
       "      <td>36.586398</td>\n",
       "      <td>-12.678937</td>\n",
       "      <td>-14.029156</td>\n",
       "      <td>177.874776</td>\n",
       "      <td>160.755433</td>\n",
       "    </tr>\n",
       "    <tr>\n",
       "      <th>253</th>\n",
       "      <td>11.0</td>\n",
       "      <td>9.199955</td>\n",
       "      <td>-39.678937</td>\n",
       "      <td>-41.415599</td>\n",
       "      <td>1643.326928</td>\n",
       "      <td>1574.418010</td>\n",
       "    </tr>\n",
       "    <tr>\n",
       "      <th>265</th>\n",
       "      <td>51.0</td>\n",
       "      <td>48.380884</td>\n",
       "      <td>0.321063</td>\n",
       "      <td>-2.234670</td>\n",
       "      <td>-0.717471</td>\n",
       "      <td>0.103082</td>\n",
       "    </tr>\n",
       "    <tr>\n",
       "      <th>275</th>\n",
       "      <td>81.0</td>\n",
       "      <td>81.289607</td>\n",
       "      <td>30.321063</td>\n",
       "      <td>30.674054</td>\n",
       "      <td>930.069928</td>\n",
       "      <td>919.366885</td>\n",
       "    </tr>\n",
       "    <tr>\n",
       "      <th>476</th>\n",
       "      <td>49.0</td>\n",
       "      <td>48.433079</td>\n",
       "      <td>-1.678937</td>\n",
       "      <td>-2.182475</td>\n",
       "      <td>3.664237</td>\n",
       "      <td>2.818828</td>\n",
       "    </tr>\n",
       "    <tr>\n",
       "      <th>236</th>\n",
       "      <td>83.0</td>\n",
       "      <td>87.220597</td>\n",
       "      <td>32.321063</td>\n",
       "      <td>36.605043</td>\n",
       "      <td>1183.113917</td>\n",
       "      <td>1044.651139</td>\n",
       "    </tr>\n",
       "    <tr>\n",
       "      <th>681</th>\n",
       "      <td>52.0</td>\n",
       "      <td>52.733898</td>\n",
       "      <td>1.321063</td>\n",
       "      <td>2.118344</td>\n",
       "      <td>2.798467</td>\n",
       "      <td>1.745208</td>\n",
       "    </tr>\n",
       "    <tr>\n",
       "      <th>9</th>\n",
       "      <td>5.0</td>\n",
       "      <td>6.963319</td>\n",
       "      <td>-45.678937</td>\n",
       "      <td>-43.652235</td>\n",
       "      <td>1993.987660</td>\n",
       "      <td>2086.565249</td>\n",
       "    </tr>\n",
       "    <tr>\n",
       "      <th>512</th>\n",
       "      <td>16.0</td>\n",
       "      <td>15.561355</td>\n",
       "      <td>-34.678937</td>\n",
       "      <td>-35.054199</td>\n",
       "      <td>1215.642331</td>\n",
       "      <td>1202.628644</td>\n",
       "    </tr>\n",
       "    <tr>\n",
       "      <th>218</th>\n",
       "      <td>84.0</td>\n",
       "      <td>83.128617</td>\n",
       "      <td>33.321063</td>\n",
       "      <td>32.513063</td>\n",
       "      <td>1083.369829</td>\n",
       "      <td>1110.293266</td>\n",
       "    </tr>\n",
       "  </tbody>\n",
       "</table>\n",
       "</div>"
      ],
      "text/plain": [
       "        x          y  x_deviation  y_deviation  x_deviation * y_deviation  \\\n",
       "3    38.0  36.586398   -12.678937   -14.029156                 177.874776   \n",
       "253  11.0   9.199955   -39.678937   -41.415599                1643.326928   \n",
       "265  51.0  48.380884     0.321063    -2.234670                  -0.717471   \n",
       "275  81.0  81.289607    30.321063    30.674054                 930.069928   \n",
       "476  49.0  48.433079    -1.678937    -2.182475                   3.664237   \n",
       "236  83.0  87.220597    32.321063    36.605043                1183.113917   \n",
       "681  52.0  52.733898     1.321063     2.118344                   2.798467   \n",
       "9     5.0   6.963319   -45.678937   -43.652235                1993.987660   \n",
       "512  16.0  15.561355   -34.678937   -35.054199                1215.642331   \n",
       "218  84.0  83.128617    33.321063    32.513063                1083.369829   \n",
       "\n",
       "     x_deviation-squared  \n",
       "3             160.755433  \n",
       "253          1574.418010  \n",
       "265             0.103082  \n",
       "275           919.366885  \n",
       "476             2.818828  \n",
       "236          1044.651139  \n",
       "681             1.745208  \n",
       "9            2086.565249  \n",
       "512          1202.628644  \n",
       "218          1110.293266  "
      ]
     },
     "execution_count": 19,
     "metadata": {},
     "output_type": "execute_result"
    }
   ],
   "source": [
    "train['x_deviation-squared'] = train['x_deviation'].apply(lambda x: x**2)\n",
    "train.head(10)"
   ]
  },
  {
   "cell_type": "markdown",
   "id": "83c461e9",
   "metadata": {},
   "source": [
    "- The 'x_deviation-squared' column is taking each x_deviation value and squaring it.\n",
    "- This makes it easier to calculate (xi - x̄)^2.\n",
    "- With this, everything required to calculate the coefficient is there."
   ]
  },
  {
   "cell_type": "code",
   "execution_count": 20,
   "id": "6b6c3647",
   "metadata": {},
   "outputs": [
    {
     "data": {
      "text/plain": [
       "1.0014327147509705"
      ]
     },
     "execution_count": 20,
     "metadata": {},
     "output_type": "execute_result"
    }
   ],
   "source": [
    "coef = train['x_deviation * y_deviation'].sum() / train['x_deviation-squared'].sum()\n",
    "coef"
   ]
  },
  {
   "cell_type": "markdown",
   "id": "92078589",
   "metadata": {},
   "source": [
    "- I am dividing Σ(xi - x̄)(yi - ȳ) by (xi - x̄)^2 which, as shown above, is the formula for the coefficient.\n",
    "- The coefficient tells us how much the y variable will increase by (since the coefficient is positive) given a 1 unit increase in x."
   ]
  },
  {
   "cell_type": "code",
   "execution_count": 21,
   "id": "8c29a52c",
   "metadata": {},
   "outputs": [
    {
     "data": {
      "text/plain": [
       "-0.13599133171277344"
      ]
     },
     "execution_count": 21,
     "metadata": {},
     "output_type": "execute_result"
    }
   ],
   "source": [
    "intercept = y_mean - (coef*x_mean)\n",
    "intercept"
   ]
  },
  {
   "cell_type": "markdown",
   "id": "41f824c6",
   "metadata": {},
   "source": [
    "- The formula for the intercept is: ȳ - (coef * x̄)\n",
    "- This tells us the value of y when x = 0."
   ]
  },
  {
   "cell_type": "code",
   "execution_count": 22,
   "id": "018d870c",
   "metadata": {},
   "outputs": [
    {
     "name": "stdout",
     "output_type": "stream",
     "text": [
      "The linear regression model is: -0.13599133171277344 + 1.0014327147509705x\n"
     ]
    }
   ],
   "source": [
    "print(f'The linear regression model is: {intercept} + {coef}x')"
   ]
  },
  {
   "cell_type": "markdown",
   "id": "3f4e300b",
   "metadata": {},
   "source": [
    "Now that the linear regression model has been determined, it can be used to predict values and measure the accuracy of the model"
   ]
  },
  {
   "cell_type": "markdown",
   "id": "df701fbb",
   "metadata": {},
   "source": [
    "# Predicting values using the linear regression model"
   ]
  },
  {
   "cell_type": "markdown",
   "id": "2e34b33f",
   "metadata": {},
   "source": [
    "To predict values and measure the accuracy of the model, the <strong>test</strong> dataset will be used!"
   ]
  },
  {
   "cell_type": "code",
   "execution_count": 23,
   "id": "bf2b6329",
   "metadata": {},
   "outputs": [
    {
     "data": {
      "text/html": [
       "<div>\n",
       "<style scoped>\n",
       "    .dataframe tbody tr th:only-of-type {\n",
       "        vertical-align: middle;\n",
       "    }\n",
       "\n",
       "    .dataframe tbody tr th {\n",
       "        vertical-align: top;\n",
       "    }\n",
       "\n",
       "    .dataframe thead th {\n",
       "        text-align: right;\n",
       "    }\n",
       "</style>\n",
       "<table border=\"1\" class=\"dataframe\">\n",
       "  <thead>\n",
       "    <tr style=\"text-align: right;\">\n",
       "      <th></th>\n",
       "      <th>x</th>\n",
       "      <th>y</th>\n",
       "    </tr>\n",
       "  </thead>\n",
       "  <tbody>\n",
       "    <tr>\n",
       "      <th>71</th>\n",
       "      <td>64.0</td>\n",
       "      <td>66.734661</td>\n",
       "    </tr>\n",
       "    <tr>\n",
       "      <th>481</th>\n",
       "      <td>86.0</td>\n",
       "      <td>88.572517</td>\n",
       "    </tr>\n",
       "    <tr>\n",
       "      <th>415</th>\n",
       "      <td>81.0</td>\n",
       "      <td>78.870977</td>\n",
       "    </tr>\n",
       "    <tr>\n",
       "      <th>689</th>\n",
       "      <td>87.0</td>\n",
       "      <td>89.137550</td>\n",
       "    </tr>\n",
       "    <tr>\n",
       "      <th>441</th>\n",
       "      <td>17.0</td>\n",
       "      <td>19.304865</td>\n",
       "    </tr>\n",
       "    <tr>\n",
       "      <th>33</th>\n",
       "      <td>0.0</td>\n",
       "      <td>0.329089</td>\n",
       "    </tr>\n",
       "    <tr>\n",
       "      <th>280</th>\n",
       "      <td>60.0</td>\n",
       "      <td>56.991789</td>\n",
       "    </tr>\n",
       "    <tr>\n",
       "      <th>183</th>\n",
       "      <td>44.0</td>\n",
       "      <td>45.675626</td>\n",
       "    </tr>\n",
       "    <tr>\n",
       "      <th>7</th>\n",
       "      <td>81.0</td>\n",
       "      <td>80.763399</td>\n",
       "    </tr>\n",
       "    <tr>\n",
       "      <th>258</th>\n",
       "      <td>35.0</td>\n",
       "      <td>33.925620</td>\n",
       "    </tr>\n",
       "  </tbody>\n",
       "</table>\n",
       "</div>"
      ],
      "text/plain": [
       "        x          y\n",
       "71   64.0  66.734661\n",
       "481  86.0  88.572517\n",
       "415  81.0  78.870977\n",
       "689  87.0  89.137550\n",
       "441  17.0  19.304865\n",
       "33    0.0   0.329089\n",
       "280  60.0  56.991789\n",
       "183  44.0  45.675626\n",
       "7    81.0  80.763399\n",
       "258  35.0  33.925620"
      ]
     },
     "execution_count": 23,
     "metadata": {},
     "output_type": "execute_result"
    }
   ],
   "source": [
    "test.head(10)"
   ]
  },
  {
   "cell_type": "code",
   "execution_count": 24,
   "id": "478a4022",
   "metadata": {},
   "outputs": [
    {
     "name": "stderr",
     "output_type": "stream",
     "text": [
      "<ipython-input-24-fb3bebfe6e89>:1: SettingWithCopyWarning: \n",
      "A value is trying to be set on a copy of a slice from a DataFrame.\n",
      "Try using .loc[row_indexer,col_indexer] = value instead\n",
      "\n",
      "See the caveats in the documentation: https://pandas.pydata.org/pandas-docs/stable/user_guide/indexing.html#returning-a-view-versus-a-copy\n",
      "  test['predicted_y'] = test['x'].apply(lambda a: intercept + (coef*a))\n"
     ]
    },
    {
     "data": {
      "text/html": [
       "<div>\n",
       "<style scoped>\n",
       "    .dataframe tbody tr th:only-of-type {\n",
       "        vertical-align: middle;\n",
       "    }\n",
       "\n",
       "    .dataframe tbody tr th {\n",
       "        vertical-align: top;\n",
       "    }\n",
       "\n",
       "    .dataframe thead th {\n",
       "        text-align: right;\n",
       "    }\n",
       "</style>\n",
       "<table border=\"1\" class=\"dataframe\">\n",
       "  <thead>\n",
       "    <tr style=\"text-align: right;\">\n",
       "      <th></th>\n",
       "      <th>x</th>\n",
       "      <th>y</th>\n",
       "      <th>predicted_y</th>\n",
       "    </tr>\n",
       "  </thead>\n",
       "  <tbody>\n",
       "    <tr>\n",
       "      <th>71</th>\n",
       "      <td>64.0</td>\n",
       "      <td>66.734661</td>\n",
       "      <td>63.955702</td>\n",
       "    </tr>\n",
       "    <tr>\n",
       "      <th>481</th>\n",
       "      <td>86.0</td>\n",
       "      <td>88.572517</td>\n",
       "      <td>85.987222</td>\n",
       "    </tr>\n",
       "    <tr>\n",
       "      <th>415</th>\n",
       "      <td>81.0</td>\n",
       "      <td>78.870977</td>\n",
       "      <td>80.980059</td>\n",
       "    </tr>\n",
       "    <tr>\n",
       "      <th>689</th>\n",
       "      <td>87.0</td>\n",
       "      <td>89.137550</td>\n",
       "      <td>86.988655</td>\n",
       "    </tr>\n",
       "    <tr>\n",
       "      <th>441</th>\n",
       "      <td>17.0</td>\n",
       "      <td>19.304865</td>\n",
       "      <td>16.888365</td>\n",
       "    </tr>\n",
       "    <tr>\n",
       "      <th>33</th>\n",
       "      <td>0.0</td>\n",
       "      <td>0.329089</td>\n",
       "      <td>-0.135991</td>\n",
       "    </tr>\n",
       "    <tr>\n",
       "      <th>280</th>\n",
       "      <td>60.0</td>\n",
       "      <td>56.991789</td>\n",
       "      <td>59.949972</td>\n",
       "    </tr>\n",
       "    <tr>\n",
       "      <th>183</th>\n",
       "      <td>44.0</td>\n",
       "      <td>45.675626</td>\n",
       "      <td>43.927048</td>\n",
       "    </tr>\n",
       "    <tr>\n",
       "      <th>7</th>\n",
       "      <td>81.0</td>\n",
       "      <td>80.763399</td>\n",
       "      <td>80.980059</td>\n",
       "    </tr>\n",
       "    <tr>\n",
       "      <th>258</th>\n",
       "      <td>35.0</td>\n",
       "      <td>33.925620</td>\n",
       "      <td>34.914154</td>\n",
       "    </tr>\n",
       "  </tbody>\n",
       "</table>\n",
       "</div>"
      ],
      "text/plain": [
       "        x          y  predicted_y\n",
       "71   64.0  66.734661    63.955702\n",
       "481  86.0  88.572517    85.987222\n",
       "415  81.0  78.870977    80.980059\n",
       "689  87.0  89.137550    86.988655\n",
       "441  17.0  19.304865    16.888365\n",
       "33    0.0   0.329089    -0.135991\n",
       "280  60.0  56.991789    59.949972\n",
       "183  44.0  45.675626    43.927048\n",
       "7    81.0  80.763399    80.980059\n",
       "258  35.0  33.925620    34.914154"
      ]
     },
     "execution_count": 24,
     "metadata": {},
     "output_type": "execute_result"
    }
   ],
   "source": [
    "test['predicted_y'] = test['x'].apply(lambda a: intercept + (coef*a))\n",
    "test.head(10)"
   ]
  },
  {
   "cell_type": "markdown",
   "id": "9b4d9cd2",
   "metadata": {},
   "source": [
    "- The 'y' column shows the actual values of y.\n",
    "- The 'predicted_y' column shows the predicted value of y - these values are derived from the linear regression model."
   ]
  },
  {
   "cell_type": "markdown",
   "id": "6d4ae53f",
   "metadata": {},
   "source": [
    "# Model Evaluation Metrics"
   ]
  },
  {
   "cell_type": "markdown",
   "id": "6e8b6904",
   "metadata": {},
   "source": [
    "There are 4 metrics that will be of concern for this specific example:\n",
    "1. Mean absolute error (MAE) - the average distance between the predicted and actual value of y.\n",
    "2. Mean squared error (MSE) - Similar to MAE, but distance between predicted and actual values are squared. MSE is preferred to MAE because it punishes larger errors.\n",
    "3. Root mean squared error (RMSE) - the square root of MSE. This metric is preferred to MSE because it is interpretable in terms of the dependent variable. \n",
    "4. R-squared - relative measure of fit. Tells us what percentage of the variance in the dependent variable can be explained by the independent variable/s. "
   ]
  },
  {
   "cell_type": "code",
   "execution_count": 25,
   "id": "b67a6126",
   "metadata": {},
   "outputs": [
    {
     "name": "stderr",
     "output_type": "stream",
     "text": [
      "<ipython-input-25-f3d6a876dde6>:1: SettingWithCopyWarning: \n",
      "A value is trying to be set on a copy of a slice from a DataFrame.\n",
      "Try using .loc[row_indexer,col_indexer] = value instead\n",
      "\n",
      "See the caveats in the documentation: https://pandas.pydata.org/pandas-docs/stable/user_guide/indexing.html#returning-a-view-versus-a-copy\n",
      "  test['error'] = abs(test['y'] - test['predicted_y'])\n"
     ]
    },
    {
     "data": {
      "text/html": [
       "<div>\n",
       "<style scoped>\n",
       "    .dataframe tbody tr th:only-of-type {\n",
       "        vertical-align: middle;\n",
       "    }\n",
       "\n",
       "    .dataframe tbody tr th {\n",
       "        vertical-align: top;\n",
       "    }\n",
       "\n",
       "    .dataframe thead th {\n",
       "        text-align: right;\n",
       "    }\n",
       "</style>\n",
       "<table border=\"1\" class=\"dataframe\">\n",
       "  <thead>\n",
       "    <tr style=\"text-align: right;\">\n",
       "      <th></th>\n",
       "      <th>x</th>\n",
       "      <th>y</th>\n",
       "      <th>predicted_y</th>\n",
       "      <th>error</th>\n",
       "    </tr>\n",
       "  </thead>\n",
       "  <tbody>\n",
       "    <tr>\n",
       "      <th>71</th>\n",
       "      <td>64.0</td>\n",
       "      <td>66.734661</td>\n",
       "      <td>63.955702</td>\n",
       "      <td>2.778958</td>\n",
       "    </tr>\n",
       "    <tr>\n",
       "      <th>481</th>\n",
       "      <td>86.0</td>\n",
       "      <td>88.572517</td>\n",
       "      <td>85.987222</td>\n",
       "      <td>2.585295</td>\n",
       "    </tr>\n",
       "    <tr>\n",
       "      <th>415</th>\n",
       "      <td>81.0</td>\n",
       "      <td>78.870977</td>\n",
       "      <td>80.980059</td>\n",
       "      <td>2.109081</td>\n",
       "    </tr>\n",
       "    <tr>\n",
       "      <th>689</th>\n",
       "      <td>87.0</td>\n",
       "      <td>89.137550</td>\n",
       "      <td>86.988655</td>\n",
       "      <td>2.148895</td>\n",
       "    </tr>\n",
       "    <tr>\n",
       "      <th>441</th>\n",
       "      <td>17.0</td>\n",
       "      <td>19.304865</td>\n",
       "      <td>16.888365</td>\n",
       "      <td>2.416501</td>\n",
       "    </tr>\n",
       "    <tr>\n",
       "      <th>33</th>\n",
       "      <td>0.0</td>\n",
       "      <td>0.329089</td>\n",
       "      <td>-0.135991</td>\n",
       "      <td>0.465081</td>\n",
       "    </tr>\n",
       "    <tr>\n",
       "      <th>280</th>\n",
       "      <td>60.0</td>\n",
       "      <td>56.991789</td>\n",
       "      <td>59.949972</td>\n",
       "      <td>2.958183</td>\n",
       "    </tr>\n",
       "    <tr>\n",
       "      <th>183</th>\n",
       "      <td>44.0</td>\n",
       "      <td>45.675626</td>\n",
       "      <td>43.927048</td>\n",
       "      <td>1.748578</td>\n",
       "    </tr>\n",
       "    <tr>\n",
       "      <th>7</th>\n",
       "      <td>81.0</td>\n",
       "      <td>80.763399</td>\n",
       "      <td>80.980059</td>\n",
       "      <td>0.216660</td>\n",
       "    </tr>\n",
       "    <tr>\n",
       "      <th>258</th>\n",
       "      <td>35.0</td>\n",
       "      <td>33.925620</td>\n",
       "      <td>34.914154</td>\n",
       "      <td>0.988534</td>\n",
       "    </tr>\n",
       "  </tbody>\n",
       "</table>\n",
       "</div>"
      ],
      "text/plain": [
       "        x          y  predicted_y     error\n",
       "71   64.0  66.734661    63.955702  2.778958\n",
       "481  86.0  88.572517    85.987222  2.585295\n",
       "415  81.0  78.870977    80.980059  2.109081\n",
       "689  87.0  89.137550    86.988655  2.148895\n",
       "441  17.0  19.304865    16.888365  2.416501\n",
       "33    0.0   0.329089    -0.135991  0.465081\n",
       "280  60.0  56.991789    59.949972  2.958183\n",
       "183  44.0  45.675626    43.927048  1.748578\n",
       "7    81.0  80.763399    80.980059  0.216660\n",
       "258  35.0  33.925620    34.914154  0.988534"
      ]
     },
     "execution_count": 25,
     "metadata": {},
     "output_type": "execute_result"
    }
   ],
   "source": [
    "test['error'] = abs(test['y'] - test['predicted_y'])\n",
    "test.head(10)"
   ]
  },
  {
   "cell_type": "code",
   "execution_count": 26,
   "id": "554b7e11",
   "metadata": {},
   "outputs": [
    {
     "data": {
      "text/plain": [
       "2.3005206961680265"
      ]
     },
     "execution_count": 26,
     "metadata": {},
     "output_type": "execute_result"
    }
   ],
   "source": [
    "mae = test['error'].sum()/len(test)\n",
    "mae"
   ]
  },
  {
   "cell_type": "markdown",
   "id": "ace75e58",
   "metadata": {},
   "source": [
    "- The mean absolute error is approximately 2.3 which means, on average, the predicted value of y is off by 2.3 from the actual value of y."
   ]
  },
  {
   "cell_type": "code",
   "execution_count": 27,
   "id": "94566c1e",
   "metadata": {},
   "outputs": [
    {
     "name": "stderr",
     "output_type": "stream",
     "text": [
      "<ipython-input-27-a5d7dd22ce29>:1: SettingWithCopyWarning: \n",
      "A value is trying to be set on a copy of a slice from a DataFrame.\n",
      "Try using .loc[row_indexer,col_indexer] = value instead\n",
      "\n",
      "See the caveats in the documentation: https://pandas.pydata.org/pandas-docs/stable/user_guide/indexing.html#returning-a-view-versus-a-copy\n",
      "  test['error_squared'] = test['error'].apply(lambda x: x**2)\n"
     ]
    },
    {
     "data": {
      "text/html": [
       "<div>\n",
       "<style scoped>\n",
       "    .dataframe tbody tr th:only-of-type {\n",
       "        vertical-align: middle;\n",
       "    }\n",
       "\n",
       "    .dataframe tbody tr th {\n",
       "        vertical-align: top;\n",
       "    }\n",
       "\n",
       "    .dataframe thead th {\n",
       "        text-align: right;\n",
       "    }\n",
       "</style>\n",
       "<table border=\"1\" class=\"dataframe\">\n",
       "  <thead>\n",
       "    <tr style=\"text-align: right;\">\n",
       "      <th></th>\n",
       "      <th>x</th>\n",
       "      <th>y</th>\n",
       "      <th>predicted_y</th>\n",
       "      <th>error</th>\n",
       "      <th>error_squared</th>\n",
       "    </tr>\n",
       "  </thead>\n",
       "  <tbody>\n",
       "    <tr>\n",
       "      <th>71</th>\n",
       "      <td>64.0</td>\n",
       "      <td>66.734661</td>\n",
       "      <td>63.955702</td>\n",
       "      <td>2.778958</td>\n",
       "      <td>7.722610</td>\n",
       "    </tr>\n",
       "    <tr>\n",
       "      <th>481</th>\n",
       "      <td>86.0</td>\n",
       "      <td>88.572517</td>\n",
       "      <td>85.987222</td>\n",
       "      <td>2.585295</td>\n",
       "      <td>6.683750</td>\n",
       "    </tr>\n",
       "    <tr>\n",
       "      <th>415</th>\n",
       "      <td>81.0</td>\n",
       "      <td>78.870977</td>\n",
       "      <td>80.980059</td>\n",
       "      <td>2.109081</td>\n",
       "      <td>4.448224</td>\n",
       "    </tr>\n",
       "    <tr>\n",
       "      <th>689</th>\n",
       "      <td>87.0</td>\n",
       "      <td>89.137550</td>\n",
       "      <td>86.988655</td>\n",
       "      <td>2.148895</td>\n",
       "      <td>4.617749</td>\n",
       "    </tr>\n",
       "    <tr>\n",
       "      <th>441</th>\n",
       "      <td>17.0</td>\n",
       "      <td>19.304865</td>\n",
       "      <td>16.888365</td>\n",
       "      <td>2.416501</td>\n",
       "      <td>5.839475</td>\n",
       "    </tr>\n",
       "    <tr>\n",
       "      <th>33</th>\n",
       "      <td>0.0</td>\n",
       "      <td>0.329089</td>\n",
       "      <td>-0.135991</td>\n",
       "      <td>0.465081</td>\n",
       "      <td>0.216300</td>\n",
       "    </tr>\n",
       "    <tr>\n",
       "      <th>280</th>\n",
       "      <td>60.0</td>\n",
       "      <td>56.991789</td>\n",
       "      <td>59.949972</td>\n",
       "      <td>2.958183</td>\n",
       "      <td>8.750846</td>\n",
       "    </tr>\n",
       "    <tr>\n",
       "      <th>183</th>\n",
       "      <td>44.0</td>\n",
       "      <td>45.675626</td>\n",
       "      <td>43.927048</td>\n",
       "      <td>1.748578</td>\n",
       "      <td>3.057524</td>\n",
       "    </tr>\n",
       "    <tr>\n",
       "      <th>7</th>\n",
       "      <td>81.0</td>\n",
       "      <td>80.763399</td>\n",
       "      <td>80.980059</td>\n",
       "      <td>0.216660</td>\n",
       "      <td>0.046942</td>\n",
       "    </tr>\n",
       "    <tr>\n",
       "      <th>258</th>\n",
       "      <td>35.0</td>\n",
       "      <td>33.925620</td>\n",
       "      <td>34.914154</td>\n",
       "      <td>0.988534</td>\n",
       "      <td>0.977200</td>\n",
       "    </tr>\n",
       "  </tbody>\n",
       "</table>\n",
       "</div>"
      ],
      "text/plain": [
       "        x          y  predicted_y     error  error_squared\n",
       "71   64.0  66.734661    63.955702  2.778958       7.722610\n",
       "481  86.0  88.572517    85.987222  2.585295       6.683750\n",
       "415  81.0  78.870977    80.980059  2.109081       4.448224\n",
       "689  87.0  89.137550    86.988655  2.148895       4.617749\n",
       "441  17.0  19.304865    16.888365  2.416501       5.839475\n",
       "33    0.0   0.329089    -0.135991  0.465081       0.216300\n",
       "280  60.0  56.991789    59.949972  2.958183       8.750846\n",
       "183  44.0  45.675626    43.927048  1.748578       3.057524\n",
       "7    81.0  80.763399    80.980059  0.216660       0.046942\n",
       "258  35.0  33.925620    34.914154  0.988534       0.977200"
      ]
     },
     "execution_count": 27,
     "metadata": {},
     "output_type": "execute_result"
    }
   ],
   "source": [
    "test['error_squared'] = test['error'].apply(lambda x: x**2)\n",
    "test.head(10)"
   ]
  },
  {
   "cell_type": "code",
   "execution_count": 28,
   "id": "fa7d94d2",
   "metadata": {},
   "outputs": [
    {
     "data": {
      "text/plain": [
       "8.496154216737885"
      ]
     },
     "execution_count": 28,
     "metadata": {},
     "output_type": "execute_result"
    }
   ],
   "source": [
    "mse = test['error_squared'].sum()/len(test)\n",
    "mse"
   ]
  },
  {
   "cell_type": "markdown",
   "id": "c3c32b57",
   "metadata": {},
   "source": [
    "- The average squared difference between the actual value and the predicted value is approximately 8.5"
   ]
  },
  {
   "cell_type": "code",
   "execution_count": 29,
   "id": "da71bca2",
   "metadata": {},
   "outputs": [
    {
     "data": {
      "text/plain": [
       "2.91481632641542"
      ]
     },
     "execution_count": 29,
     "metadata": {},
     "output_type": "execute_result"
    }
   ],
   "source": [
    "rmse = mse**0.5\n",
    "rmse"
   ]
  },
  {
   "cell_type": "markdown",
   "id": "77838ad5",
   "metadata": {},
   "source": [
    "- Similar to MAE, this value represents the average distance between the actual and predicted value of y. \n",
    "- This metric is preferred to MSE because the result is interpretable in terms of the depedent variable, 2.9 is the average distance of actual y value from the regression line."
   ]
  },
  {
   "cell_type": "markdown",
   "id": "56229a70",
   "metadata": {},
   "source": [
    "To manually calculate the coefficient of determination (R-squared), the following are needed:\n",
    "- SST: Total sum of squares = Σ(Yi – mean of Y)^2\n",
    "- SSE: Sum of squared error (this is already calculate in the 'error_squared' column)\n",
    "- This is because R-squared = 1 - (SSE/SST)"
   ]
  },
  {
   "cell_type": "code",
   "execution_count": 30,
   "id": "53dad377",
   "metadata": {},
   "outputs": [
    {
     "name": "stderr",
     "output_type": "stream",
     "text": [
      "<ipython-input-30-96d9366715d6>:2: SettingWithCopyWarning: \n",
      "A value is trying to be set on a copy of a slice from a DataFrame.\n",
      "Try using .loc[row_indexer,col_indexer] = value instead\n",
      "\n",
      "See the caveats in the documentation: https://pandas.pydata.org/pandas-docs/stable/user_guide/indexing.html#returning-a-view-versus-a-copy\n",
      "  test['y-y_mean'] = test['y'].apply(lambda x: (x - y_mean)**2)\n"
     ]
    },
    {
     "data": {
      "text/html": [
       "<div>\n",
       "<style scoped>\n",
       "    .dataframe tbody tr th:only-of-type {\n",
       "        vertical-align: middle;\n",
       "    }\n",
       "\n",
       "    .dataframe tbody tr th {\n",
       "        vertical-align: top;\n",
       "    }\n",
       "\n",
       "    .dataframe thead th {\n",
       "        text-align: right;\n",
       "    }\n",
       "</style>\n",
       "<table border=\"1\" class=\"dataframe\">\n",
       "  <thead>\n",
       "    <tr style=\"text-align: right;\">\n",
       "      <th></th>\n",
       "      <th>x</th>\n",
       "      <th>y</th>\n",
       "      <th>predicted_y</th>\n",
       "      <th>error</th>\n",
       "      <th>error_squared</th>\n",
       "      <th>y-y_mean</th>\n",
       "    </tr>\n",
       "  </thead>\n",
       "  <tbody>\n",
       "    <tr>\n",
       "      <th>71</th>\n",
       "      <td>64.0</td>\n",
       "      <td>66.734661</td>\n",
       "      <td>63.955702</td>\n",
       "      <td>2.778958</td>\n",
       "      <td>7.722610</td>\n",
       "      <td>337.389721</td>\n",
       "    </tr>\n",
       "    <tr>\n",
       "      <th>481</th>\n",
       "      <td>86.0</td>\n",
       "      <td>88.572517</td>\n",
       "      <td>85.987222</td>\n",
       "      <td>2.585295</td>\n",
       "      <td>6.683750</td>\n",
       "      <td>1616.524666</td>\n",
       "    </tr>\n",
       "    <tr>\n",
       "      <th>415</th>\n",
       "      <td>81.0</td>\n",
       "      <td>78.870977</td>\n",
       "      <td>80.980059</td>\n",
       "      <td>2.109081</td>\n",
       "      <td>4.448224</td>\n",
       "      <td>930.523772</td>\n",
       "    </tr>\n",
       "    <tr>\n",
       "      <th>689</th>\n",
       "      <td>87.0</td>\n",
       "      <td>89.137550</td>\n",
       "      <td>86.988655</td>\n",
       "      <td>2.148895</td>\n",
       "      <td>4.617749</td>\n",
       "      <td>1662.279352</td>\n",
       "    </tr>\n",
       "    <tr>\n",
       "      <th>441</th>\n",
       "      <td>17.0</td>\n",
       "      <td>19.304865</td>\n",
       "      <td>16.888365</td>\n",
       "      <td>2.416501</td>\n",
       "      <td>5.839475</td>\n",
       "      <td>844.577986</td>\n",
       "    </tr>\n",
       "    <tr>\n",
       "      <th>33</th>\n",
       "      <td>0.0</td>\n",
       "      <td>0.329089</td>\n",
       "      <td>-0.135991</td>\n",
       "      <td>0.465081</td>\n",
       "      <td>0.216300</td>\n",
       "      <td>2307.591795</td>\n",
       "    </tr>\n",
       "    <tr>\n",
       "      <th>280</th>\n",
       "      <td>60.0</td>\n",
       "      <td>56.991789</td>\n",
       "      <td>59.949972</td>\n",
       "      <td>2.958183</td>\n",
       "      <td>8.750846</td>\n",
       "      <td>74.395788</td>\n",
       "    </tr>\n",
       "    <tr>\n",
       "      <th>183</th>\n",
       "      <td>44.0</td>\n",
       "      <td>45.675626</td>\n",
       "      <td>43.927048</td>\n",
       "      <td>1.748578</td>\n",
       "      <td>3.057524</td>\n",
       "      <td>7.240747</td>\n",
       "    </tr>\n",
       "    <tr>\n",
       "      <th>7</th>\n",
       "      <td>81.0</td>\n",
       "      <td>80.763399</td>\n",
       "      <td>80.980059</td>\n",
       "      <td>0.216660</td>\n",
       "      <td>0.046942</td>\n",
       "      <td>1049.559726</td>\n",
       "    </tr>\n",
       "    <tr>\n",
       "      <th>258</th>\n",
       "      <td>35.0</td>\n",
       "      <td>33.925620</td>\n",
       "      <td>34.914154</td>\n",
       "      <td>0.988534</td>\n",
       "      <td>0.977200</td>\n",
       "      <td>208.538719</td>\n",
       "    </tr>\n",
       "  </tbody>\n",
       "</table>\n",
       "</div>"
      ],
      "text/plain": [
       "        x          y  predicted_y     error  error_squared     y-y_mean\n",
       "71   64.0  66.734661    63.955702  2.778958       7.722610   337.389721\n",
       "481  86.0  88.572517    85.987222  2.585295       6.683750  1616.524666\n",
       "415  81.0  78.870977    80.980059  2.109081       4.448224   930.523772\n",
       "689  87.0  89.137550    86.988655  2.148895       4.617749  1662.279352\n",
       "441  17.0  19.304865    16.888365  2.416501       5.839475   844.577986\n",
       "33    0.0   0.329089    -0.135991  0.465081       0.216300  2307.591795\n",
       "280  60.0  56.991789    59.949972  2.958183       8.750846    74.395788\n",
       "183  44.0  45.675626    43.927048  1.748578       3.057524     7.240747\n",
       "7    81.0  80.763399    80.980059  0.216660       0.046942  1049.559726\n",
       "258  35.0  33.925620    34.914154  0.988534       0.977200   208.538719"
      ]
     },
     "execution_count": 30,
     "metadata": {},
     "output_type": "execute_result"
    }
   ],
   "source": [
    "y_mean = test['y'].mean()\n",
    "test['y-y_mean'] = test['y'].apply(lambda x: (x - y_mean)**2)\n",
    "test.head(10)"
   ]
  },
  {
   "cell_type": "code",
   "execution_count": 31,
   "id": "827e5e99",
   "metadata": {},
   "outputs": [
    {
     "data": {
      "text/plain": [
       "163940.75982808077"
      ]
     },
     "execution_count": 31,
     "metadata": {},
     "output_type": "execute_result"
    }
   ],
   "source": [
    "sst = test['y-y_mean'].sum()\n",
    "sst"
   ]
  },
  {
   "cell_type": "markdown",
   "id": "4b9c4f2f",
   "metadata": {},
   "source": [
    "- SST is a measure of y's variability around its mean. It takes the distance from the mean of y to an actual value of y and squares it - this is done for each value of y - and then its all summed up to produce SST.\n",
    "- SST represents the total error in the dataset, its what the model's error would be if we were to use y's mean as the regression line.\n",
    "- The ponit of linear regression is to produce a line that reduces this error as much as possible."
   ]
  },
  {
   "cell_type": "code",
   "execution_count": 32,
   "id": "2789c718",
   "metadata": {},
   "outputs": [
    {
     "data": {
      "text/plain": [
       "1784.1923855149557"
      ]
     },
     "execution_count": 32,
     "metadata": {},
     "output_type": "execute_result"
    }
   ],
   "source": [
    "sse = test['error_squared'].sum()\n",
    "sse"
   ]
  },
  {
   "cell_type": "markdown",
   "id": "924d82e8",
   "metadata": {},
   "source": [
    "- SSE is a measure of y's variability around the regression line.\n",
    "- The lower SSE is, the better the regression line fits the data.\n",
    "- The SSE is very low as compared to SST, this is essentially the whole point of linear regression: to reduce SSE as much as possible."
   ]
  },
  {
   "cell_type": "code",
   "execution_count": 33,
   "id": "0cb9780b",
   "metadata": {},
   "outputs": [
    {
     "data": {
      "text/plain": [
       "0.989116846918448"
      ]
     },
     "execution_count": 33,
     "metadata": {},
     "output_type": "execute_result"
    }
   ],
   "source": [
    "r_squared = 1 - (sse/sst)\n",
    "r_squared"
   ]
  },
  {
   "cell_type": "markdown",
   "id": "9fcefdb5",
   "metadata": {},
   "source": [
    "- The coefficient of determination (R-squared) describes the percentage of the variation in the dependent variable that can be explained by the independent variable/s. \n",
    "- R-squared is a value between 0 and 1. Where a value closer to 0 means the independent variable/s do not explain any variation in the dependent variable, and a value closer to 1 means the independent variable/s explain all of the variation in the dependent variable.\n",
    "- With this specific model, R-squared is approximately equal to 1 which means (nearly) all the variation in y is explained by x."
   ]
  },
  {
   "cell_type": "markdown",
   "id": "eee7d810",
   "metadata": {},
   "source": [
    "# Visualizing actual values of y and predicted values of y"
   ]
  },
  {
   "cell_type": "code",
   "execution_count": 34,
   "id": "355f5267",
   "metadata": {},
   "outputs": [
    {
     "data": {
      "text/plain": [
       "<AxesSubplot:xlabel='x', ylabel='predicted_y'>"
      ]
     },
     "execution_count": 34,
     "metadata": {},
     "output_type": "execute_result"
    },
    {
     "data": {
      "image/png": "[encoded data removed]",
      "text/plain": [
       "<Figure size 432x288 with 2 Axes>"
      ]
     },
     "metadata": {},
     "output_type": "display_data"
    }
   ],
   "source": [
    "sns.set()\n",
    "fig, axes = plt.subplots(1, 2)\n",
    "sns.scatterplot(data=test, x='x', y='y', ax=axes[0])\n",
    "sns.scatterplot(data=test, x='x', y='predicted_y', ax=axes[1])"
   ]
  },
  {
   "cell_type": "markdown",
   "id": "f63c2be8",
   "metadata": {},
   "source": [
    "- Visually, it can be deduced that the model is very accurate."
   ]
  },
  {
   "cell_type": "code",
   "execution_count": 47,
   "id": "89c6cc43",
   "metadata": {},
   "outputs": [
    {
     "name": "stderr",
     "output_type": "stream",
     "text": [
      "C:\\Users\\obaid\\anaconda3\\lib\\site-packages\\seaborn\\distributions.py:2557: FutureWarning: `distplot` is a deprecated function and will be removed in a future version. Please adapt your code to use either `displot` (a figure-level function with similar flexibility) or `histplot` (an axes-level function for histograms).\n",
      "  warnings.warn(msg, FutureWarning)\n"
     ]
    },
    {
     "data": {
      "text/plain": [
       "<AxesSubplot:ylabel='Density'>"
      ]
     },
     "execution_count": 47,
     "metadata": {},
     "output_type": "execute_result"
    },
    {
     "data": {
      "image/png": "[encoded data removed]",
      "text/plain": [
       "<Figure size 432x288 with 1 Axes>"
      ]
     },
     "metadata": {},
     "output_type": "display_data"
    }
   ],
   "source": [
    "sns.distplot((test['y'] - test['predicted_y']))"
   ]
  },
  {
   "cell_type": "markdown",
   "id": "3cdb83c2",
   "metadata": {},
   "source": [
    "- This is a plot of the residual (y - predicted_y)\n",
    "- A normal distribution is indicative of a model that fits well.\n",
    "- If this wasn't a normal distribution, the model would have to be modified. "
   ]
  },
  {
   "cell_type": "markdown",
   "id": "d398e8de",
   "metadata": {},
   "source": [
    "# Part 2: Building the Model using the Scikit-Learn Library"
   ]
  },
  {
   "cell_type": "markdown",
   "id": "0c89b806",
   "metadata": {},
   "source": [
    "In this part, I am going to do exactly the same thing I did in part 1 (build and evaluate a regression model) using scikit-learn as opposed to manually calculating everything."
   ]
  },
  {
   "cell_type": "code",
   "execution_count": 35,
   "id": "7dcc8a4d",
   "metadata": {},
   "outputs": [],
   "source": [
    "X_train = train['x'].values.reshape(-1,1)\n",
    "X_test = test['x'].values.reshape(-1,1)\n",
    "y_train = train['y'].values.reshape(-1,1)\n",
    "y_test = test['y'].values.reshape(-1,1)"
   ]
  },
  {
   "cell_type": "markdown",
   "id": "30b284ee",
   "metadata": {},
   "source": [
    "- The train/test dataset remains the same as the first part."
   ]
  },
  {
   "cell_type": "code",
   "execution_count": 36,
   "id": "6ba95b56",
   "metadata": {},
   "outputs": [],
   "source": [
    "from sklearn.linear_model import LinearRegression"
   ]
  },
  {
   "cell_type": "code",
   "execution_count": 37,
   "id": "5b64cf0b",
   "metadata": {},
   "outputs": [
    {
     "data": {
      "text/plain": [
       "LinearRegression()"
      ]
     },
     "execution_count": 37,
     "metadata": {},
     "output_type": "execute_result"
    }
   ],
   "source": [
    "lm = LinearRegression()\n",
    "lm.fit(X_train,y_train)"
   ]
  },
  {
   "cell_type": "markdown",
   "id": "1de3fd78",
   "metadata": {},
   "source": [
    "- Instantiating and fitting the model"
   ]
  },
  {
   "cell_type": "code",
   "execution_count": 38,
   "id": "e7252cf7",
   "metadata": {},
   "outputs": [
    {
     "name": "stdout",
     "output_type": "stream",
     "text": [
      "[-0.13599133]\n",
      "[[1.00143271]]\n"
     ]
    }
   ],
   "source": [
    "print(lm.intercept_)\n",
    "print(lm.coef_)"
   ]
  },
  {
   "cell_type": "markdown",
   "id": "beefd89b",
   "metadata": {},
   "source": [
    "- The coefficient and slope produced here is exactly the same as the slope and coefficient produced in part 1. "
   ]
  },
  {
   "cell_type": "markdown",
   "id": "d618574c",
   "metadata": {},
   "source": [
    "# Predicting Values using the Linear Regression Model"
   ]
  },
  {
   "cell_type": "code",
   "execution_count": 39,
   "id": "bd1772ee",
   "metadata": {},
   "outputs": [
    {
     "data": {
      "text/plain": [
       "array([[ 63.95570241],\n",
       "       [ 85.98722214],\n",
       "       [ 80.98005856],\n",
       "       [ 86.98865485],\n",
       "       [ 16.88836482],\n",
       "       [ -0.13599133],\n",
       "       [ 59.94997155],\n",
       "       [ 43.92704812],\n",
       "       [ 80.98005856],\n",
       "       [ 34.91415368],\n",
       "       [ 23.89839382],\n",
       "       [ -0.13599133],\n",
       "       [ 50.93707712],\n",
       "       [ 20.89409568],\n",
       "       [ 72.96859685],\n",
       "       [ 12.88263396],\n",
       "       [ 81.98149128],\n",
       "       [ 48.93421169],\n",
       "       [ 36.91701911],\n",
       "       [ 18.89123025],\n",
       "       [ 86.98865485],\n",
       "       [ 83.98435671],\n",
       "       [ 13.88406667],\n",
       "       [ 53.94137526],\n",
       "       [ 23.89839382],\n",
       "       [  4.87117224],\n",
       "       [ 57.94710612],\n",
       "       [ 15.8869321 ],\n",
       "       [ 50.93707712],\n",
       "       [ 57.94710612],\n",
       "       [ 47.93277898],\n",
       "       [ 85.98722214],\n",
       "       [ 31.90985554],\n",
       "       [ 16.88836482],\n",
       "       [ 68.96286599],\n",
       "       [ 26.90269197],\n",
       "       [ 77.97576042],\n",
       "       [ 43.92704812],\n",
       "       [ 47.93277898],\n",
       "       [ 20.89409568],\n",
       "       [ 21.89552839],\n",
       "       [ 48.93421169],\n",
       "       [ 24.89982654],\n",
       "       [ 18.89123025],\n",
       "       [ 53.94137526],\n",
       "       [ 89.992953  ],\n",
       "       [ 72.96859685],\n",
       "       [ 18.89123025],\n",
       "       [ 60.95140427],\n",
       "       [ 51.93850984],\n",
       "       [ 38.91988454],\n",
       "       [ 99.00584743],\n",
       "       [ 30.90842283],\n",
       "       [ 16.88836482],\n",
       "       [ 20.89409568],\n",
       "       [ 89.992953  ],\n",
       "       [ 48.93421169],\n",
       "       [ 40.92274997],\n",
       "       [ 53.94137526],\n",
       "       [ 87.99008757],\n",
       "       [  7.87547039],\n",
       "       [ 74.97146227],\n",
       "       [  6.87403767],\n",
       "       [ 20.89409568],\n",
       "       [ -0.13599133],\n",
       "       [ 24.89982654],\n",
       "       [ 59.94997155],\n",
       "       [ 10.87976853],\n",
       "       [ 92.99725114],\n",
       "       [ 34.91415368],\n",
       "       [ 21.89552839],\n",
       "       [ 55.94424069],\n",
       "       [ 63.95570241],\n",
       "       [ 78.97719313],\n",
       "       [ 26.90269197],\n",
       "       [  5.87260496],\n",
       "       [ 43.92704812],\n",
       "       [ 63.95570241],\n",
       "       [ 35.9155864 ],\n",
       "       [ 91.99581843],\n",
       "       [ 19.89266296],\n",
       "       [ 69.9642987 ],\n",
       "       [  1.8668741 ],\n",
       "       [ 53.94137526],\n",
       "       [ 26.90269197],\n",
       "       [ 25.90125925],\n",
       "       [ 23.89839382],\n",
       "       [ 49.93564441],\n",
       "       [ 15.8869321 ],\n",
       "       [ 23.89839382],\n",
       "       [ 71.96716413],\n",
       "       [ 15.8869321 ],\n",
       "       [ 57.94710612],\n",
       "       [ 38.91988454],\n",
       "       [ 75.97289499],\n",
       "       [ 80.98005856],\n",
       "       [ 55.94424069],\n",
       "       [ 35.9155864 ],\n",
       "       [ 76.9743277 ],\n",
       "       [ 69.9642987 ],\n",
       "       [ 66.96000056],\n",
       "       [  4.87117224],\n",
       "       [ 95.00011657],\n",
       "       [ 25.90125925],\n",
       "       [ 89.992953  ],\n",
       "       [ 87.99008757],\n",
       "       [ 10.87976853],\n",
       "       [ 52.93994255],\n",
       "       [ 74.97146227],\n",
       "       [ 70.96573142],\n",
       "       [100.00728014],\n",
       "       [ 15.8869321 ],\n",
       "       [ 64.95713513],\n",
       "       [ 33.91272097],\n",
       "       [ 89.992953  ],\n",
       "       [ 73.97002956],\n",
       "       [ 31.90985554],\n",
       "       [  1.8668741 ],\n",
       "       [ 11.88120125],\n",
       "       [ 67.96143327],\n",
       "       [ 67.96143327],\n",
       "       [  3.86973953],\n",
       "       [ 90.99438571],\n",
       "       [ 57.94710612],\n",
       "       [ 76.9743277 ],\n",
       "       [  6.87403767],\n",
       "       [ 42.9256154 ],\n",
       "       [ 95.00011657],\n",
       "       [ 54.94280798],\n",
       "       [  3.86973953],\n",
       "       [ 43.92704812],\n",
       "       [ 74.97146227],\n",
       "       [ 55.94424069],\n",
       "       [ 92.99725114],\n",
       "       [ 45.92991355],\n",
       "       [ 55.94424069],\n",
       "       [ 23.89839382],\n",
       "       [ 11.88120125],\n",
       "       [ 72.96859685],\n",
       "       [ -0.13599133],\n",
       "       [ 12.88263396],\n",
       "       [ 15.8869321 ],\n",
       "       [ 28.9055574 ],\n",
       "       [ 45.92991355],\n",
       "       [ 90.99438571],\n",
       "       [ 98.00441471],\n",
       "       [ 73.97002956],\n",
       "       [ 51.93850984],\n",
       "       [ 41.92418269],\n",
       "       [ 92.99725114],\n",
       "       [ 18.89123025],\n",
       "       [ 45.92991355],\n",
       "       [ 49.93564441],\n",
       "       [ 12.88263396],\n",
       "       [ 76.9743277 ],\n",
       "       [ 19.89266296],\n",
       "       [ 57.94710612],\n",
       "       [ 30.90842283],\n",
       "       [ 36.91701911],\n",
       "       [ 15.8869321 ],\n",
       "       [ 27.90412468],\n",
       "       [ 24.89982654],\n",
       "       [ 95.00011657],\n",
       "       [ 40.92274997],\n",
       "       [ 82.98292399],\n",
       "       [ 92.99725114],\n",
       "       [ 99.00584743],\n",
       "       [ 78.97719313],\n",
       "       [ 49.93564441],\n",
       "       [ 31.90985554],\n",
       "       [ 50.93707712],\n",
       "       [ 41.92418269],\n",
       "       [ 88.99152028],\n",
       "       [ 57.94710612],\n",
       "       [ 31.90985554],\n",
       "       [ 54.94280798],\n",
       "       [ 67.96143327],\n",
       "       [ 84.98578942],\n",
       "       [ 71.96716413],\n",
       "       [ 73.97002956],\n",
       "       [ 30.90842283],\n",
       "       [ 23.89839382],\n",
       "       [ 54.94280798],\n",
       "       [ 27.90412468],\n",
       "       [ 28.9055574 ],\n",
       "       [ 29.90699011],\n",
       "       [ 57.94710612],\n",
       "       [ 35.9155864 ],\n",
       "       [ 61.95283698],\n",
       "       [ 73.97002956],\n",
       "       [ 11.88120125],\n",
       "       [ 89.992953  ],\n",
       "       [ 52.93994255],\n",
       "       [ 48.93421169],\n",
       "       [ 58.94853884],\n",
       "       [ 33.91272097],\n",
       "       [ 67.96143327],\n",
       "       [ 41.92418269],\n",
       "       [ 99.00584743],\n",
       "       [ 49.93564441],\n",
       "       [ 49.93564441],\n",
       "       [ 25.90125925],\n",
       "       [ 67.96143327],\n",
       "       [  3.86973953],\n",
       "       [ 79.97862585],\n",
       "       [ 95.00011657],\n",
       "       [ 48.93421169],\n",
       "       [ 20.89409568],\n",
       "       [  7.87547039],\n",
       "       [  9.87833582]])"
      ]
     },
     "execution_count": 39,
     "metadata": {},
     "output_type": "execute_result"
    }
   ],
   "source": [
    "predictions = lm.predict(X_test)\n",
    "predictions"
   ]
  },
  {
   "cell_type": "markdown",
   "id": "34f95296",
   "metadata": {},
   "source": [
    "- Now that a predictions column as been generated, it can be used to evaluate the model's accuracy."
   ]
  },
  {
   "cell_type": "markdown",
   "id": "13a8b5a6",
   "metadata": {},
   "source": [
    "# Evaluating the Model"
   ]
  },
  {
   "cell_type": "code",
   "execution_count": 40,
   "id": "e8854182",
   "metadata": {},
   "outputs": [],
   "source": [
    "from sklearn import metrics"
   ]
  },
  {
   "cell_type": "code",
   "execution_count": 41,
   "id": "b543c4ae",
   "metadata": {},
   "outputs": [
    {
     "data": {
      "text/plain": [
       "2.3005206961680265"
      ]
     },
     "execution_count": 41,
     "metadata": {},
     "output_type": "execute_result"
    }
   ],
   "source": [
    "metrics.mean_absolute_error(y_test, predictions)"
   ]
  },
  {
   "cell_type": "code",
   "execution_count": 42,
   "id": "5747687f",
   "metadata": {},
   "outputs": [
    {
     "data": {
      "text/plain": [
       "8.496154216737885"
      ]
     },
     "execution_count": 42,
     "metadata": {},
     "output_type": "execute_result"
    }
   ],
   "source": [
    "metrics.mean_squared_error(y_test, predictions)"
   ]
  },
  {
   "cell_type": "code",
   "execution_count": 43,
   "id": "04608cc9",
   "metadata": {},
   "outputs": [
    {
     "data": {
      "text/plain": [
       "2.91481632641542"
      ]
     },
     "execution_count": 43,
     "metadata": {},
     "output_type": "execute_result"
    }
   ],
   "source": [
    "np.sqrt(metrics.mean_squared_error(y_test, predictions))"
   ]
  },
  {
   "cell_type": "code",
   "execution_count": 44,
   "id": "da222381",
   "metadata": {},
   "outputs": [
    {
     "data": {
      "text/plain": [
       "0.989116846918448"
      ]
     },
     "execution_count": 44,
     "metadata": {},
     "output_type": "execute_result"
    }
   ],
   "source": [
    "metrics.r2_score(y_test, predictions)"
   ]
  },
  {
   "cell_type": "markdown",
   "id": "4fbab737",
   "metadata": {},
   "source": [
    "- The metrics used in this part are the same as the metrics used in part 1. \n",
    "- SST and SSE did not have to be calculated in order to calculate R-squared.\n",
    "- The values of the metrics in this part are exactly the same (give or take a few decimal values) as the value of the metrics in part 1 where values were calculated manually."
   ]
  },
  {
   "cell_type": "markdown",
   "id": "c2007bc5",
   "metadata": {},
   "source": [
    "# Conclusion"
   ]
  },
  {
   "cell_type": "markdown",
   "id": "de4e77c7",
   "metadata": {},
   "source": [
    "- Due to the simplicity of the dataset, its analysis is not meant to provide a statistical insight about the data.\n",
    "- The analysis of this dataset is meant to explain concepts of linear regression, and how its various components are calculated both manually and using the scikit-learn library."
   ]
  }
 ],
 "metadata": {
  "kernelspec": {
   "display_name": "Python 3",
   "language": "python",
   "name": "python3"
  },
  "language_info": {
   "codemirror_mode": {
    "name": "ipython",
    "version": 3
   },
   "file_extension": ".py",
   "mimetype": "text/x-python",
   "name": "python",
   "nbconvert_exporter": "python",
   "pygments_lexer": "ipython3",
   "version": "3.8.8"
  }
 },
 "nbformat": 4,
 "nbformat_minor": 5
}
